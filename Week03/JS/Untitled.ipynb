{
 "cells": [
  {
   "cell_type": "code",
   "execution_count": 2,
   "metadata": {},
   "outputs": [
    {
     "name": "stdout",
     "output_type": "stream",
     "text": [
      "20\n",
      "20입니다.\n"
     ]
    }
   ],
   "source": [
    "x = int(input())          # 입력받은 값을 변수에 저장\n",
    " \n",
    "if x == 10:               # x가 10이면\n",
    "    print('10입니다.')    # '10입니다.'를 출력\n",
    " \n",
    "if x == 20:               # x가 20이면\n",
    "    print('20입니다.')    # '20입니다.'를 출력"
   ]
  },
  {
   "cell_type": "code",
   "execution_count": 4,
   "metadata": {},
   "outputs": [
    {
     "name": "stdout",
     "output_type": "stream",
     "text": [
      "20입니다.\n"
     ]
    }
   ],
   "source": [
    "x = 20\n",
    "if x == 10:\n",
    "    print('10입니다.')\n",
    "elif x == 20:\n",
    "    print('20입니다.')"
   ]
  },
  {
   "cell_type": "code",
   "execution_count": 5,
   "metadata": {},
   "outputs": [
    {
     "name": "stdout",
     "output_type": "stream",
     "text": [
      "2\n",
      "사이다\n"
     ]
    }
   ],
   "source": [
    "button = int(input())\n",
    " \n",
    "if button == 1:\n",
    "    print('콜라')\n",
    "elif button == 2:\n",
    "    print('사이다')\n",
    "elif button == 3:\n",
    "    print('환타')\n",
    "else:\n",
    "    print('제공하지 않는 메뉴')"
   ]
  },
  {
   "cell_type": "code",
   "execution_count": null,
   "metadata": {},
   "outputs": [],
   "source": []
  }
 ],
 "metadata": {
  "kernelspec": {
   "display_name": "Python 3",
   "language": "python",
   "name": "python3"
  },
  "language_info": {
   "codemirror_mode": {
    "name": "ipython",
    "version": 3
   },
   "file_extension": ".py",
   "mimetype": "text/x-python",
   "name": "python",
   "nbconvert_exporter": "python",
   "pygments_lexer": "ipython3",
   "version": "3.7.6"
  }
 },
 "nbformat": 4,
 "nbformat_minor": 4
}
